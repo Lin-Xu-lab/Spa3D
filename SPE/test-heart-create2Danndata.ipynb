{
 "cells": [
  {
   "cell_type": "code",
   "execution_count": 1,
   "id": "96d40899",
   "metadata": {},
   "outputs": [],
   "source": [
    "import os,csv,re\n",
    "import pandas as pd\n",
    "import numpy as np\n",
    "import scanpy as sc\n",
    "import math\n",
    "from scipy.sparse import issparse\n",
    "import random, torch\n",
    "import warnings\n",
    "warnings.filterwarnings(\"ignore\")\n",
    "import matplotlib.colors as clr\n",
    "import matplotlib.pyplot as plt\n",
    "import cv2\n",
    "import anndata as ad"
   ]
  },
  {
   "cell_type": "code",
   "execution_count": null,
   "id": "c1919004",
   "metadata": {},
   "outputs": [],
   "source": [
    "for i in range(9, 13):\n",
    "    filename = \"data/adata.\" + str(i) + \"_data_spe.h5ad\"\n",
    "    print(filename)\n",
    "\n",
    "    filename_data = \"data/adata_heart_\" + str(i) + \"_data_spe.csv\"\n",
    "    filename_obs = \"data/adata_heart_\" + str(i) + \"_obs.csv\"\n",
    "    filename_var = \"data/adata_heart_\" + str(i) + \"_var.csv\"\n",
    "    print(filename_data)\n",
    "    print(filename_obs)\n",
    "    print(filename_var)\n",
    "    \n",
    "    counts = pd.read_csv(filename_data, index_col = 0)\n",
    "    adata_obs = pd.read_csv(filename_obs, index_col = 0)\n",
    "    adata_var = pd.read_csv(filename_var, index_col = 0)\n",
    "    \n",
    "    counts_max = counts.max().max()\n",
    "    counts_min = counts.min().min()\n",
    "        \n",
    "    print(counts_min, counts_max)\n",
    "    \n",
    "    counts[counts < 0] = 0\n",
    "        \n",
    "    counts.index = adata_obs.index\n",
    "    \n",
    "    adata = ad.AnnData(counts)\n",
    "    adata.obs = adata_obs\n",
    "    adata.var = adata_var\n",
    "    \n",
    "    adata.write_h5ad(filename)\n",
    "    "
   ]
  }
 ],
 "metadata": {
  "kernelspec": {
   "display_name": "Python 3",
   "language": "python",
   "name": "python3"
  },
  "language_info": {
   "codemirror_mode": {
    "name": "ipython",
    "version": 3
   },
   "file_extension": ".py",
   "mimetype": "text/x-python",
   "name": "python",
   "nbconvert_exporter": "python",
   "pygments_lexer": "ipython3",
   "version": "3.8.8"
  }
 },
 "nbformat": 4,
 "nbformat_minor": 5
}
