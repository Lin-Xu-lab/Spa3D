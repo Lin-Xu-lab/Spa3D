{
 "cells": [
  {
   "cell_type": "code",
   "execution_count": 3,
   "id": "96d40899",
   "metadata": {},
   "outputs": [],
   "source": [
    "import os,csv,re\n",
    "import pandas as pd\n",
    "import numpy as np\n",
    "import scanpy as sc\n",
    "import math\n",
    "import SpaGCN as spg\n",
    "from scipy.sparse import issparse\n",
    "import random, torch\n",
    "import warnings\n",
    "warnings.filterwarnings(\"ignore\")\n",
    "import matplotlib.colors as clr\n",
    "import matplotlib.pyplot as plt\n",
    "import __init__ as spg\n",
    "import cv2\n",
    "import anndata as ad"
   ]
  },
  {
   "cell_type": "code",
   "execution_count": 4,
   "id": "6e195222",
   "metadata": {},
   "outputs": [
    {
     "data": {
      "text/plain": [
       "'1.2.5'"
      ]
     },
     "execution_count": 4,
     "metadata": {},
     "output_type": "execute_result"
    }
   ],
   "source": [
    "spg.__version__"
   ]
  },
  {
   "cell_type": "code",
   "execution_count": 8,
   "id": "c1919004",
   "metadata": {},
   "outputs": [
    {
     "name": "stdout",
     "output_type": "stream",
     "text": [
      "/home/chentang/data/humanHeart/adata.9_data_lfft_filter_25_17_30x30_002.h5ad\n",
      "/home/chentang/data/humanHeart/adata_heart_9_data_lfft_filter_25_17_30x30_002.csv\n",
      "/home/chentang/data/humanHeart/adata_heart_9_obs.csv\n",
      "/home/chentang/data/humanHeart/adata_heart_9_var.csv\n"
     ]
    },
    {
     "name": "stderr",
     "output_type": "stream",
     "text": [
      "... storing 'Sample' as categorical\n",
      "... storing 'ChipBatch' as categorical\n",
      "... storing 'ChipNr' as categorical\n",
      "... storing 'Experiment_procedure' as categorical\n"
     ]
    },
    {
     "name": "stdout",
     "output_type": "stream",
     "text": [
      "-5.506421851705727 463.6541957336557\n",
      "/home/chentang/data/humanHeart/adata.10_data_lfft_filter_25_17_30x30_002.h5ad\n",
      "/home/chentang/data/humanHeart/adata_heart_10_data_lfft_filter_25_17_30x30_002.csv\n",
      "/home/chentang/data/humanHeart/adata_heart_10_obs.csv\n",
      "/home/chentang/data/humanHeart/adata_heart_10_var.csv\n"
     ]
    },
    {
     "name": "stderr",
     "output_type": "stream",
     "text": [
      "... storing 'Sample' as categorical\n",
      "... storing 'ChipBatch' as categorical\n",
      "... storing 'ChipNr' as categorical\n"
     ]
    },
    {
     "name": "stdout",
     "output_type": "stream",
     "text": [
      "-8.005464377236326 433.1428622198375\n"
     ]
    },
    {
     "name": "stderr",
     "output_type": "stream",
     "text": [
      "... storing 'Experiment_procedure' as categorical\n"
     ]
    },
    {
     "name": "stdout",
     "output_type": "stream",
     "text": [
      "/home/chentang/data/humanHeart/adata.11_data_lfft_filter_25_17_30x30_002.h5ad\n",
      "/home/chentang/data/humanHeart/adata_heart_11_data_lfft_filter_25_17_30x30_002.csv\n",
      "/home/chentang/data/humanHeart/adata_heart_11_obs.csv\n",
      "/home/chentang/data/humanHeart/adata_heart_11_var.csv\n"
     ]
    },
    {
     "name": "stderr",
     "output_type": "stream",
     "text": [
      "... storing 'Sample' as categorical\n",
      "... storing 'ChipBatch' as categorical\n",
      "... storing 'ChipNr' as categorical\n",
      "... storing 'Experiment_procedure' as categorical\n"
     ]
    },
    {
     "name": "stdout",
     "output_type": "stream",
     "text": [
      "-9.225193236710703 484.5207270933864\n",
      "/home/chentang/data/humanHeart/adata.12_data_lfft_filter_25_17_30x30_002.h5ad\n",
      "/home/chentang/data/humanHeart/adata_heart_12_data_lfft_filter_25_17_30x30_002.csv\n",
      "/home/chentang/data/humanHeart/adata_heart_12_obs.csv\n",
      "/home/chentang/data/humanHeart/adata_heart_12_var.csv\n"
     ]
    },
    {
     "name": "stderr",
     "output_type": "stream",
     "text": [
      "... storing 'Sample' as categorical\n",
      "... storing 'ChipBatch' as categorical\n",
      "... storing 'ChipNr' as categorical\n",
      "... storing 'Experiment_procedure' as categorical\n"
     ]
    },
    {
     "name": "stdout",
     "output_type": "stream",
     "text": [
      "-16.235422777782123 614.6560724115009\n"
     ]
    }
   ],
   "source": [
    "for i in range(9, 13):\n",
    "    filename = \"/home/chentang/data/humanHeart/adata.\" + str(i) + \"_data_lfft_filter_25_17_30x30_002.h5ad\"\n",
    "    print(filename)\n",
    "\n",
    "    filename_data = \"/home/chentang/data/humanHeart/adata_heart_\" + str(i) + \"_data_lfft_filter_25_17_30x30_002.csv\"\n",
    "    filename_obs = \"/home/chentang/data/humanHeart/adata_heart_\" + str(i) + \"_obs.csv\"\n",
    "    filename_var = \"/home/chentang/data/humanHeart/adata_heart_\" + str(i) + \"_var.csv\"\n",
    "    print(filename_data)\n",
    "    print(filename_obs)\n",
    "    print(filename_var)\n",
    "    \n",
    "    counts = pd.read_csv(filename_data, index_col = 0)\n",
    "    adata_obs = pd.read_csv(filename_obs, index_col = 0)\n",
    "    adata_var = pd.read_csv(filename_var, index_col = 0)\n",
    "    \n",
    "    counts_max = counts.max().max()\n",
    "    counts_min = counts.min().min()\n",
    "        \n",
    "    print(counts_min, counts_max)\n",
    "    \n",
    "    counts[counts < 0] = 0\n",
    "        \n",
    "    counts.index = adata_obs.index\n",
    "    \n",
    "    adata = ad.AnnData(counts)\n",
    "    adata.obs = adata_obs\n",
    "    adata.var = adata_var\n",
    "    \n",
    "    adata.write_h5ad(filename)\n",
    "    "
   ]
  },
  {
   "cell_type": "code",
   "execution_count": null,
   "id": "381938d9",
   "metadata": {},
   "outputs": [],
   "source": []
  }
 ],
 "metadata": {
  "kernelspec": {
   "display_name": "Python 3",
   "language": "python",
   "name": "python3"
  },
  "language_info": {
   "codemirror_mode": {
    "name": "ipython",
    "version": 3
   },
   "file_extension": ".py",
   "mimetype": "text/x-python",
   "name": "python",
   "nbconvert_exporter": "python",
   "pygments_lexer": "ipython3",
   "version": "3.8.8"
  }
 },
 "nbformat": 4,
 "nbformat_minor": 5
}
